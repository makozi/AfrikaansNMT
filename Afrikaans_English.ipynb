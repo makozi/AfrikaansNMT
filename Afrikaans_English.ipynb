{
  "nbformat": 4,
  "nbformat_minor": 0,
  "metadata": {
    "kernelspec": {
      "display_name": "Python 3",
      "language": "python",
      "name": "python3"
    },
    "language_info": {
      "codemirror_mode": {
        "name": "ipython",
        "version": 3
      },
      "file_extension": ".py",
      "mimetype": "text/x-python",
      "name": "python",
      "nbconvert_exporter": "python",
      "pygments_lexer": "ipython3",
      "version": "3.7.3"
    },
    "colab": {
      "name": "Afrikaans - English.ipynb",
      "provenance": [],
      "collapsed_sections": [],
      "toc_visible": true
    }
  },
  "cells": [
    {
      "cell_type": "markdown",
      "metadata": {
        "id": "jK7VZ7BGgHnn",
        "colab_type": "text"
      },
      "source": [
        "# Afrikaans to English Translation\n",
        "\n",
        "\n",
        "### Preparing the  Data\n",
        "\n",
        "Data preparation is divided into two subsections:\n",
        "\n",
        "1. Clean Data\n",
        "2. Split Text\n",
        "\n",
        "\n",
        "\n",
        "#### 1. Cleaning Data"
      ]
    },
    {
      "cell_type": "code",
      "metadata": {
        "id": "VGQxVow7gHn4",
        "colab_type": "code",
        "colab": {}
      },
      "source": [
        "def load_doc(file_name):\n",
        "    # Open the file as read only\n",
        "    file = open(filename, mode='rt', encoding='utf-8')\n",
        "    # read all text\n",
        "    text = file.read()\n",
        "    # close the file\n",
        "    file.close()\n",
        "    return text\n"
      ],
      "execution_count": null,
      "outputs": []
    },
    {
      "cell_type": "code",
      "metadata": {
        "id": "7aBEal3UgHpl",
        "colab_type": "code",
        "colab": {}
      },
      "source": [
        "# splitting the loaded text by line and then by phrase.\n",
        "def to_pairs(doc):\n",
        "\tlines = doc.strip().split('\\n')\n",
        "\tpairs = [line.split('\\t') for line in  lines]\n",
        "\treturn pairs"
      ],
      "execution_count": null,
      "outputs": []
    },
    {
      "cell_type": "markdown",
      "metadata": {
        "id": "MrcuLeFIgHqN",
        "colab_type": "text"
      },
      "source": [
        "Performing cleaning to do the following:\n",
        "\n",
        "- Removing all non-printable characters.\n",
        "- Removing all punctuation characters.\n",
        "- Normalizing all Unicode characters to ASCII (e.g. Latin characters).\n",
        "- Normalizing the case to lowercase.\n",
        "- Removing any remaining tokens that are not alphabetic.\n",
        "\n",
        "Performing these operations on each phrase for each pair in the loaded dataset."
      ]
    },
    {
      "cell_type": "code",
      "metadata": {
        "id": "HFOw994ygHqa",
        "colab_type": "code",
        "colab": {}
      },
      "source": [
        "# clean a list of lines\n",
        "def clean_pairs(lines):\n",
        "\tcleaned = list()\n",
        "\t# prepare regex for char filtering\n",
        "\tre_print = re.compile('[^%s]' % re.escape(string.printable))\n",
        "\t# prepare translation table for removing punctuation\n",
        "\ttable = str.maketrans('', '', string.punctuation)\n",
        "\tfor pair in lines:\n",
        "\t\tclean_pair = list()\n",
        "\t\tfor line in pair:\n",
        "\t\t\t# normalize unicode characters\n",
        "\t\t\tline = normalize('NFD', line).encode('ascii', 'ignore')\n",
        "\t\t\tline = line.decode('UTF-8')\n",
        "\t\t\t# tokenize on white space\n",
        "\t\t\tline = line.split()\n",
        "\t\t\t# convert to lowercase\n",
        "\t\t\tline = [word.lower() for word in line]\n",
        "\t\t\t# remove punctuation from each token\n",
        "\t\t\tline = [word.translate(table) for word in line]\n",
        "\t\t\t# remove non-printable chars form each token\n",
        "\t\t\tline = [re_print.sub('', w) for w in line]\n",
        "\t\t\t# remove tokens with numbers in them\n",
        "\t\t\tline = [word for word in line if word.isalpha()]\n",
        "\t\t\t# store as string\n",
        "\t\t\tclean_pair.append(' '.join(line))\n",
        "\t\tcleaned.append(clean_pair)\n",
        "\treturn array(cleaned)"
      ],
      "execution_count": null,
      "outputs": []
    },
    {
      "cell_type": "code",
      "metadata": {
        "id": "s_3KIzTPgHrS",
        "colab_type": "code",
        "colab": {
          "base_uri": "https://localhost:8080/",
          "height": 1000
        },
        "outputId": "89327e74-697c-4fc0-c96e-0b5906d1f354"
      },
      "source": [
        "import string\n",
        "import re\n",
        "from pickle import dump\n",
        "from unicodedata import normalize\n",
        "from numpy import array\n",
        " \n",
        "# load doc into memory\n",
        "def load_doc(filename):\n",
        "\t# open the file as read only\n",
        "\tfile = open(filename, mode='rt', encoding='utf-8')\n",
        "\t# read all text\n",
        "\ttext = file.read()\n",
        "\t# close the file\n",
        "\tfile.close()\n",
        "\treturn text\n",
        " \n",
        "# split a loaded document into sentences\n",
        "def to_pairs(doc):\n",
        "\tlines = doc.strip().split('\\n')\n",
        "\tpairs = [line.split('\\t') for line in  lines]\n",
        "\treturn pairs\n",
        " \n",
        "# clean a list of lines\n",
        "def clean_pairs(lines):\n",
        "\tcleaned = list()\n",
        "\t# prepare regex for char filtering\n",
        "\tre_print = re.compile('[^%s]' % re.escape(string.printable))\n",
        "\t# prepare translation table for removing punctuation\n",
        "\ttable = str.maketrans('', '', string.punctuation)\n",
        "\tfor pair in lines:\n",
        "\t\tclean_pair = list()\n",
        "\t\tfor line in pair:\n",
        "\t\t\t# normalize unicode characters\n",
        "\t\t\tline = normalize('NFD', line).encode('ascii', 'ignore')\n",
        "\t\t\tline = line.decode('UTF-8')\n",
        "\t\t\t# tokenize on white space\n",
        "\t\t\tline = line.split()\n",
        "\t\t\t# convert to lowercase\n",
        "\t\t\tline = [word.lower() for word in line]\n",
        "\t\t\t# remove punctuation from each token\n",
        "\t\t\tline = [word.translate(table) for word in line]\n",
        "\t\t\t# remove non-printable chars form each token\n",
        "\t\t\tline = [re_print.sub('', w) for w in line]\n",
        "\t\t\t# remove tokens with numbers in them\n",
        "\t\t\tline = [word for word in line if word.isalpha()]\n",
        "\t\t\t# store as string\n",
        "\t\t\tclean_pair.append(' '.join(line))\n",
        "\t\tcleaned.append(clean_pair)\n",
        "\treturn array(cleaned)\n",
        " \n",
        "# save a list of clean sentences to file\n",
        "def save_clean_data(sentences, filename):\n",
        "\tdump(sentences, open(filename, 'wb'))\n",
        "\tprint('Saved: %s' % filename)\n",
        " \n",
        "# load dataset\n",
        "filename = 'afr.txt'\n",
        "doc = load_doc(filename)\n",
        "# split into english-afrikaans pairs\n",
        "pairs = to_pairs(doc)\n",
        "# clean sentences\n",
        "clean_pairs = clean_pairs(pairs)\n",
        "# save clean pairs to file\n",
        "save_clean_data(clean_pairs, 'english-afrikaans.pkl')\n",
        "# spot check\n",
        "for i in range(100):\n",
        "\tprint('[%s] => [%s]' % (clean_pairs[i,0], clean_pairs[i,1]))"
      ],
      "execution_count": null,
      "outputs": [
        {
          "output_type": "stream",
          "text": [
            "Saved: english-afrikaans.pkl\n",
            "[come in] => [gaan binne]\n",
            "[she runs] => [sy hardloop]\n",
            "[you lost] => [jy verloor]\n",
            "[go inside] => [gaan binne]\n",
            "[he is poor] => [hy is arm]\n",
            "[i eat rice] => [ek eet rys]\n",
            "[we all lie] => [ons almal lieg]\n",
            "[im thirsty] => [ek is dors]\n",
            "[thats life] => [dis die lewe]\n",
            "[tom hurt me] => [tom het my beseer]\n",
            "[tom may die] => [tom kan dalk dood gaan]\n",
            "[what a pity] => [hoe jammer]\n",
            "[youve lost] => [jy verloor]\n",
            "[find the cat] => [soek die kat]\n",
            "[i have a car] => [ek het n kar]\n",
            "[please hurry] => [maak asseblief gou]\n",
            "[we all stood] => [ons almal het gestaan]\n",
            "[what a shame] => [hoe jammer]\n",
            "[even tom lied] => [selfs tom het gelieg]\n",
            "[im not blind] => [ek is nie blind nie]\n",
            "[its too ugly] => [dis te lelik]\n",
            "[let tom drive] => [laat tom bestuur]\n",
            "[tom had to go] => [tom moes gaan]\n",
            "[tom wont die] => [tom sal nie dood gaan nie]\n",
            "[was tom there] => [was tom daar]\n",
            "[we need money] => [ons het geld nodig]\n",
            "[you are drunk] => [jy is dronk]\n",
            "[you are drunk] => [julle is dronk]\n",
            "[i hate driving] => [ek haat dit om te bestuur]\n",
            "[i love driving] => [ek is gaande oor bestuur]\n",
            "[im a free man] => [ek is n vry man]\n",
            "[im not a poet] => [ek is nie n digter nie]\n",
            "[its a big job] => [dit is n groot werk]\n",
            "[lets practice] => [laat ons oefen]\n",
            "[my desk is old] => [my lessenaar is oud]\n",
            "[she likes wine] => [sy hou van wyn]\n",
            "[shes not here] => [sy is nie hier nie]\n",
            "[shes pregnant] => [sy is swanger]\n",
            "[that was yours] => [dit was joune]\n",
            "[thats logical] => [dis logies]\n",
            "[those are mine] => [dit behoort aan my]\n",
            "[tom moved away] => [tom het weg getrek]\n",
            "[tom wont help] => [tom sal nie help nie]\n",
            "[tom wont lose] => [tom sal nie verloor nie]\n",
            "[try this sauce] => [probeer hierdie sous]\n",
            "[can you open it] => [kan jy dit oopmaak]\n",
            "[cats catch mice] => [katte vang muise]\n",
            "[congratulations] => [baie geluk]\n",
            "[do you know her] => [ken jy hierdie dame]\n",
            "[how could it be] => [hoe kan dit wees]\n",
            "[i caught a cold] => [ek het verkoue gekry]\n",
            "[i have dry skin] => [ek het n droee vel]\n",
            "[i will join you] => [ek sal saam met jou kom]\n",
            "[look behind you] => [kyk agter jou]\n",
            "[parties are fun] => [partytjies is lekker]\n",
            "[please trust me] => [vetrou my asseblief]\n",
            "[she adores cats] => [sy hou van katte]\n",
            "[tom already ate] => [tom het reeds geeet]\n",
            "[tom got wounded] => [tom het n besering opgedoen]\n",
            "[tom has secrets] => [tom het geheime]\n",
            "[tom kept trying] => [tom het aanhou probeer]\n",
            "[tom looked pale] => [tom het bleek gelyk]\n",
            "[tom made coffee] => [tom het koffie gemaak]\n",
            "[tom never cooks] => [tom kook nooit]\n",
            "[tom ought to go] => [tom sal sekerlik gaan]\n",
            "[tom will say no] => [tom sal nee se]\n",
            "[we dont forget] => [ons vergeet nie]\n",
            "[we want it back] => [ons wil dit terug he]\n",
            "[were all going] => [ons almal gaan]\n",
            "[were relatives] => [ons is familie]\n",
            "[you are naughty] => [jy is stout]\n",
            "[hang on a moment] => [hang aan vir n oomblik]\n",
            "[he hates spiders] => [hy haat spinnekoppe]\n",
            "[hold your horses] => [stadig oor die klippe]\n",
            "[i cant complain] => [ek kan nie kla nie]\n",
            "[i didnt hug tom] => [ek het nie vir tom omhels nie]\n",
            "[i hate the rules] => [ek haat die voorskrifte]\n",
            "[i need your help] => [ek kort jou hulp]\n",
            "[i want tom to go] => [ek wil he tom moet gaan]\n",
            "[i want tom to go] => [ek wil he tom moet verlaat]\n",
            "[i wont be quiet] => [ek sal nie stil wees nie]\n",
            "[i wont kiss tom] => [ek sal nie tom soen nie]\n",
            "[i wont kiss tom] => [ek weier om vir tom te soen]\n",
            "[its a good sign] => [dit is n goeie teken]\n",
            "[may i open a can] => [mag ek n blikkie oopmaak]\n",
            "[music is my life] => [musiek is my lewe]\n",
            "[my french is bad] => [my fraans is sleg]\n",
            "[my wallets gone] => [my beursie het verdwyn]\n",
            "[please go faster] => [gaan asseblief vinniger]\n",
            "[that books mine] => [daardie boek behoort aan my]\n",
            "[that books mine] => [daardie boek is myne]\n",
            "[the bill please] => [die rekening asseblief]\n",
            "[the bus was full] => [die bus was vol]\n",
            "[they all changed] => [hullet almal verander]\n",
            "[this isnt right] => [dit is nie reg nie]\n",
            "[tom didnt leave] => [tom het nie verlaat nie]\n",
            "[tom didnt leave] => [tom het nie gegaan nie]\n",
            "[tom got up early] => [tom het vroeg op gestaan]\n",
            "[tom is trembling] => [tom bewe]\n",
            "[tom is very hurt] => [tom is baie seer]\n"
          ],
          "name": "stdout"
        }
      ]
    },
    {
      "cell_type": "markdown",
      "metadata": {
        "id": "n-3V_fnHgHsa",
        "colab_type": "text"
      },
      "source": [
        "## Splitting Text"
      ]
    },
    {
      "cell_type": "code",
      "metadata": {
        "id": "6DyIAC6ogHsg",
        "colab_type": "code",
        "colab": {
          "base_uri": "https://localhost:8080/",
          "height": 68
        },
        "outputId": "3f72ad4c-ebc4-445b-8101-0af0f4c7c560"
      },
      "source": [
        "\n",
        "from pickle import load\n",
        "from pickle import dump\n",
        "from numpy.random import rand\n",
        "from numpy.random import shuffle\n",
        "\n",
        "# load a clean dataset\n",
        "def load_clean_sentences(filename):\n",
        "\treturn load(open(filename, 'rb'))\n",
        "\n",
        "# save a list of clean sentences to file\n",
        "def save_clean_data(sentences, filename):\n",
        "\tdump(sentences, open(filename, 'wb'))\n",
        "\tprint('Saved: %s' % filename)\n",
        "\n",
        "# load dataset\n",
        "raw_dataset = load_clean_sentences('english-afrikaans.pkl')\n",
        "\n",
        "# reduce dataset size\n",
        "n_sentences = 10000\n",
        "dataset = raw_dataset[:n_sentences, :]\n",
        "# random shuffle\n",
        "shuffle(dataset)\n",
        "# split into train/test\n",
        "train, test = dataset[:9000], dataset[9000:]\n",
        "# save\n",
        "save_clean_data(dataset, 'english-afrikaan-both.pkl')\n",
        "save_clean_data(train, 'english-afrikaan-train.pkl')\n",
        "save_clean_data(test, 'english-afrikaan-test.pkl')"
      ],
      "execution_count": null,
      "outputs": [
        {
          "output_type": "stream",
          "text": [
            "Saved: english-afrikaan-both.pkl\n",
            "Saved: english-afrikaan-train.pkl\n",
            "Saved: english-afrikaan-test.pkl\n"
          ],
          "name": "stdout"
        }
      ]
    },
    {
      "cell_type": "markdown",
      "metadata": {
        "id": "yFFki6R2gHti",
        "colab_type": "text"
      },
      "source": [
        "The new files: \n",
        "\n",
        "`english-afrikaan-both.pkl`: contains all of the train and test examples that we can use to define the parameters of the problem.\n",
        "\n",
        "`english-afrikaan-train.pkl`: contains files for train dataset.\n",
        "\n",
        "`english-afrikaan-test.pkl`: contains files for the train and test dataset.\n",
        "\n",
        "\n",
        "\n",
        "## Training  Neural Translation Model\n",
        "\n"
      ]
    },
    {
      "cell_type": "code",
      "metadata": {
        "id": "0l8rjqLwgHtw",
        "colab_type": "code",
        "colab": {}
      },
      "source": [
        "# load a clean dataset\n",
        "def load_clean_sentences(filename):\n",
        "\treturn load(open(filename, 'rb'))\n",
        "\n",
        "# load datasets\n",
        "dataset = load_clean_sentences('english-afrikaan-both.pkl')\n",
        "train = load_clean_sentences('english-afrikaan-train.pkl')\n",
        "test = load_clean_sentences('english-afrikaan-test.pkl')\n"
      ],
      "execution_count": null,
      "outputs": []
    },
    {
      "cell_type": "markdown",
      "metadata": {
        "id": "OzNRiqIGgHvD",
        "colab_type": "text"
      },
      "source": [
        "Using the Keras Tokenize class to map words to integers, as needed for modeling. We will use separate tokenizer for the English sequences and the Afrikaans sequences. The function below-named `create_tokenizer()` will train a tokenizer on a list of phrases."
      ]
    },
    {
      "cell_type": "code",
      "metadata": {
        "id": "szMg4KtggHvI",
        "colab_type": "code",
        "colab": {
          "base_uri": "https://localhost:8080/",
          "height": 34
        },
        "outputId": "77fc8b53-e13e-4038-a200-5ad597562848"
      },
      "source": [
        "\n",
        "# fit a tokenizer\n",
        "\n",
        "from keras.preprocessing.text import Tokenizer\n",
        "def create_tokenizer(lines):\n",
        "\ttokenizer = Tokenizer()\n",
        "\ttokenizer.fit_on_texts(lines)\n",
        "\treturn tokenizer\n"
      ],
      "execution_count": null,
      "outputs": [
        {
          "output_type": "stream",
          "text": [
            "Using TensorFlow backend.\n"
          ],
          "name": "stderr"
        }
      ]
    },
    {
      "cell_type": "code",
      "metadata": {
        "id": "OSTvEc5BgHv2",
        "colab_type": "code",
        "colab": {}
      },
      "source": [
        "# finding the length of the longest sequence in a list of phrases.\n",
        "def max_length(lines):\n",
        "\treturn max(len(line.split()) for line in lines)"
      ],
      "execution_count": null,
      "outputs": []
    },
    {
      "cell_type": "code",
      "metadata": {
        "id": "AfclOYhAgHwX",
        "colab_type": "code",
        "colab": {
          "base_uri": "https://localhost:8080/",
          "height": 85
        },
        "outputId": "93ec3359-dddf-4d91-ca6d-86cba98455b7"
      },
      "source": [
        "\n",
        "# prepare english tokenizer\n",
        "eng_tokenizer = create_tokenizer(dataset[:, 0])\n",
        "eng_vocab_size = len(eng_tokenizer.word_index) + 1\n",
        "eng_length = max_length(dataset[:, 0])\n",
        "print('English Vocabulary Size: %d' % eng_vocab_size)\n",
        "print('English Max Length: %d' % (eng_length))\n",
        "# prepare afrikaans tokenizer\n",
        "afr_tokenizer = create_tokenizer(dataset[:, 1])\n",
        "afr_vocab_size = len(afr_tokenizer.word_index) + 1\n",
        "afr_length = max_length(dataset[:, 1])\n",
        "print('Afrikaans Vocabulary Size: %d' % afr_vocab_size)\n",
        "print(' Afrikaans Max Length: %d' % (afr_length))\n"
      ],
      "execution_count": null,
      "outputs": [
        {
          "output_type": "stream",
          "text": [
            "English Vocabulary Size: 1023\n",
            "English Max Length: 18\n",
            "Afrikaans Vocabulary Size: 999\n",
            " Afrikaans Max Length: 21\n"
          ],
          "name": "stdout"
        }
      ]
    },
    {
      "cell_type": "markdown",
      "metadata": {
        "id": "AYw9XLGyg3yU",
        "colab_type": "text"
      },
      "source": [
        "Each input and output sequence must be encoded to integers and padded to the maximum phrase length. "
      ]
    },
    {
      "cell_type": "code",
      "metadata": {
        "id": "eHUdoPwBgHxL",
        "colab_type": "code",
        "colab": {}
      },
      "source": [
        "from keras.preprocessing.sequence import pad_sequences\n",
        "from keras.utils import to_categorical\n",
        "\n",
        "# encode and pad sequences\n",
        "def encode_sequences(tokenizer, length, lines):\n",
        "\t# integer encode sequences\n",
        "\tX = tokenizer.texts_to_sequences(lines)\n",
        "\t# pad sequences with 0 values\n",
        "\tX = pad_sequences(X, maxlen=length, padding='post')\n",
        "\treturn X"
      ],
      "execution_count": null,
      "outputs": []
    },
    {
      "cell_type": "code",
      "metadata": {
        "id": "tU9c8qschhEP",
        "colab_type": "code",
        "colab": {}
      },
      "source": [
        "# The output sequence needs to be one-hot encoded  because the model will predict the probability of each word in the vocabulary as output.\n",
        "\n",
        "\n",
        "\n",
        "# one hot encode target sequence\n",
        "def encode_output(sequences, vocab_size):\n",
        "\tylist = list()\n",
        "\tfor sequence in sequences:\n",
        "\t\tencoded = to_categorical(sequence, num_classes=vocab_size)\n",
        "\t\tylist.append(encoded)\n",
        "\ty = array(ylist)\n",
        "\ty = y.reshape(sequences.shape[0], sequences.shape[1], vocab_size)\n",
        "\treturn y"
      ],
      "execution_count": null,
      "outputs": []
    },
    {
      "cell_type": "markdown",
      "metadata": {
        "id": "yFT5wQMEh_Gi",
        "colab_type": "text"
      },
      "source": [
        "Using the two functions  to prepare both the train and test dataset ready for training the model."
      ]
    },
    {
      "cell_type": "code",
      "metadata": {
        "id": "Rt8zYrDDh4PJ",
        "colab_type": "code",
        "colab": {}
      },
      "source": [
        "\n",
        "# prepare training data\n",
        "trainX = encode_sequences(afr_tokenizer, afr_length, train[:, 1])\n",
        "trainY = encode_sequences(eng_tokenizer, eng_length, train[:, 0])\n",
        "trainY = encode_output(trainY, eng_vocab_size)\n",
        "# prepare validation data\n",
        "testX = encode_sequences(afr_tokenizer, afr_length, test[:, 1])\n",
        "testY = encode_sequences(eng_tokenizer, eng_length, test[:, 0])\n",
        "testY = encode_output(testY, eng_vocab_size)\n"
      ],
      "execution_count": null,
      "outputs": []
    },
    {
      "cell_type": "code",
      "metadata": {
        "id": "S5iOGbgXiSaZ",
        "colab_type": "code",
        "colab": {
          "base_uri": "https://localhost:8080/",
          "height": 967
        },
        "outputId": "47ad3df1-fd4d-485a-902c-521440381c4c"
      },
      "source": [
        "# Using an encoder-decoder LSTM model \n",
        "\n",
        "\n",
        "from keras.models import Sequential\n",
        "from keras.layers import Embedding, LSTM,RepeatVector, Dense\n",
        "from keras.layers.wrappers import TimeDistributed\n",
        "from keras.utils import plot_model\n",
        "\n",
        "# define NMT model\n",
        "def define_model(src_vocab, tar_vocab, src_timesteps, tar_timesteps, n_units):\n",
        "\tmodel = Sequential()\n",
        "\tmodel.add(Embedding(src_vocab, n_units, input_length=src_timesteps, mask_zero=True))\n",
        "\tmodel.add(LSTM(n_units))\n",
        "\tmodel.add(RepeatVector(tar_timesteps))\n",
        "\tmodel.add(LSTM(n_units, return_sequences=True))\n",
        "\tmodel.add(TimeDistributed(Dense(tar_vocab, activation='softmax')))\n",
        "\treturn model\n",
        " \n",
        "# define model\n",
        "model = define_model(afr_vocab_size, eng_vocab_size, afr_length, eng_length, 256)\n",
        "model.compile(optimizer='adam', loss='categorical_crossentropy')\n",
        "# summarize defined model\n",
        "print(model.summary())\n",
        "plot_model(model, to_file='model.png', show_shapes=True)"
      ],
      "execution_count": null,
      "outputs": [
        {
          "output_type": "stream",
          "text": [
            "Model: \"sequential_1\"\n",
            "_________________________________________________________________\n",
            "Layer (type)                 Output Shape              Param #   \n",
            "=================================================================\n",
            "embedding_1 (Embedding)      (None, 21, 256)           255744    \n",
            "_________________________________________________________________\n",
            "lstm_1 (LSTM)                (None, 256)               525312    \n",
            "_________________________________________________________________\n",
            "repeat_vector_1 (RepeatVecto (None, 18, 256)           0         \n",
            "_________________________________________________________________\n",
            "lstm_2 (LSTM)                (None, 18, 256)           525312    \n",
            "_________________________________________________________________\n",
            "time_distributed_1 (TimeDist (None, 18, 1023)          262911    \n",
            "=================================================================\n",
            "Total params: 1,569,279\n",
            "Trainable params: 1,569,279\n",
            "Non-trainable params: 0\n",
            "_________________________________________________________________\n",
            "None\n"
          ],
          "name": "stdout"
        },
        {
          "output_type": "execute_result",
          "data": {
            "image/png": "[encoded data removed]",
            "text/plain": [
              "<IPython.core.display.Image object>"
            ]
          },
          "metadata": {
            "tags": []
          },
          "execution_count": 13
        }
      ]
    },
    {
      "cell_type": "code",
      "metadata": {
        "id": "yDJtL-9q0Q4N",
        "colab_type": "code",
        "colab": {
          "base_uri": "https://localhost:8080/",
          "height": 1000
        },
        "outputId": "eea2c8b3-893e-4f88-fc2a-714181ad1eda"
      },
      "source": [
        "\n",
        "from keras.callbacks import ModelCheckpoint\n",
        "# fit model\n",
        "filename = 'model.h5'\n",
        "checkpoint = ModelCheckpoint(filename, monitor='val_loss', verbose=1, save_best_only=True, mode='min')\n",
        "model.fit(trainX, trainY, epochs=30, batch_size=512, validation_split = 0.2,callbacks=[checkpoint], \n",
        "                    verbose=1)\n",
        "\n",
        "\n"
      ],
      "execution_count": null,
      "outputs": [
        {
          "output_type": "stream",
          "text": [
            "/usr/local/lib/python3.6/dist-packages/tensorflow/python/framework/indexed_slices.py:434: UserWarning: Converting sparse IndexedSlices to a dense Tensor of unknown shape. This may consume a large amount of memory.\n",
            "  \"Converting sparse IndexedSlices to a dense Tensor of unknown shape. \"\n"
          ],
          "name": "stderr"
        },
        {
          "output_type": "stream",
          "text": [
            "Train on 637 samples, validate on 160 samples\n",
            "Epoch 1/30\n",
            "637/637 [==============================] - 5s 7ms/step - loss: 6.9282 - val_loss: 6.8980\n",
            "\n",
            "Epoch 00001: val_loss improved from inf to 6.89796, saving model to model.h5\n",
            "Epoch 2/30\n",
            "637/637 [==============================] - 3s 5ms/step - loss: 6.8900 - val_loss: 6.7968\n",
            "\n",
            "Epoch 00002: val_loss improved from 6.89796 to 6.79680, saving model to model.h5\n",
            "Epoch 3/30\n",
            "637/637 [==============================] - 3s 5ms/step - loss: 6.7640 - val_loss: 6.3881\n",
            "\n",
            "Epoch 00003: val_loss improved from 6.79680 to 6.38807, saving model to model.h5\n",
            "Epoch 4/30\n",
            "637/637 [==============================] - 3s 5ms/step - loss: 6.2434 - val_loss: 4.9087\n",
            "\n",
            "Epoch 00004: val_loss improved from 6.38807 to 4.90869, saving model to model.h5\n",
            "Epoch 5/30\n",
            "637/637 [==============================] - 3s 5ms/step - loss: 4.6245 - val_loss: 3.0851\n",
            "\n",
            "Epoch 00005: val_loss improved from 4.90869 to 3.08508, saving model to model.h5\n",
            "Epoch 6/30\n",
            "637/637 [==============================] - 3s 5ms/step - loss: 3.0028 - val_loss: 2.5488\n",
            "\n",
            "Epoch 00006: val_loss improved from 3.08508 to 2.54877, saving model to model.h5\n",
            "Epoch 7/30\n",
            "637/637 [==============================] - 3s 5ms/step - loss: 2.6078 - val_loss: 2.5991\n",
            "\n",
            "Epoch 00007: val_loss did not improve from 2.54877\n",
            "Epoch 8/30\n",
            "637/637 [==============================] - 3s 5ms/step - loss: 2.6794 - val_loss: 2.6257\n",
            "\n",
            "Epoch 00008: val_loss did not improve from 2.54877\n",
            "Epoch 9/30\n",
            "637/637 [==============================] - 3s 5ms/step - loss: 2.6786 - val_loss: 2.5545\n",
            "\n",
            "Epoch 00009: val_loss did not improve from 2.54877\n",
            "Epoch 10/30\n",
            "637/637 [==============================] - 3s 5ms/step - loss: 2.5733 - val_loss: 2.4439\n",
            "\n",
            "Epoch 00010: val_loss improved from 2.54877 to 2.44393, saving model to model.h5\n",
            "Epoch 11/30\n",
            "637/637 [==============================] - 3s 5ms/step - loss: 2.4341 - val_loss: 2.3793\n",
            "\n",
            "Epoch 00011: val_loss improved from 2.44393 to 2.37933, saving model to model.h5\n",
            "Epoch 12/30\n",
            "637/637 [==============================] - 3s 5ms/step - loss: 2.3541 - val_loss: 2.4076\n",
            "\n",
            "Epoch 00012: val_loss did not improve from 2.37933\n",
            "Epoch 13/30\n",
            "637/637 [==============================] - 3s 5ms/step - loss: 2.3714 - val_loss: 2.4388\n",
            "\n",
            "Epoch 00013: val_loss did not improve from 2.37933\n",
            "Epoch 14/30\n",
            "637/637 [==============================] - 3s 5ms/step - loss: 2.3849 - val_loss: 2.3987\n",
            "\n",
            "Epoch 00014: val_loss did not improve from 2.37933\n",
            "Epoch 15/30\n",
            "637/637 [==============================] - 3s 5ms/step - loss: 2.3362 - val_loss: 2.3630\n",
            "\n",
            "Epoch 00015: val_loss improved from 2.37933 to 2.36303, saving model to model.h5\n",
            "Epoch 16/30\n",
            "637/637 [==============================] - 3s 5ms/step - loss: 2.2952 - val_loss: 2.3524\n",
            "\n",
            "Epoch 00016: val_loss improved from 2.36303 to 2.35238, saving model to model.h5\n",
            "Epoch 17/30\n",
            "637/637 [==============================] - 3s 5ms/step - loss: 2.2822 - val_loss: 2.3535\n",
            "\n",
            "Epoch 00017: val_loss did not improve from 2.35238\n",
            "Epoch 18/30\n",
            "637/637 [==============================] - 3s 5ms/step - loss: 2.2768 - val_loss: 2.3423\n",
            "\n",
            "Epoch 00018: val_loss improved from 2.35238 to 2.34226, saving model to model.h5\n",
            "Epoch 19/30\n",
            "637/637 [==============================] - 3s 5ms/step - loss: 2.2600 - val_loss: 2.3147\n",
            "\n",
            "Epoch 00019: val_loss improved from 2.34226 to 2.31467, saving model to model.h5\n",
            "Epoch 20/30\n",
            "637/637 [==============================] - 3s 5ms/step - loss: 2.2296 - val_loss: 2.2881\n",
            "\n",
            "Epoch 00020: val_loss improved from 2.31467 to 2.28812, saving model to model.h5\n",
            "Epoch 21/30\n",
            "637/637 [==============================] - 3s 5ms/step - loss: 2.2057 - val_loss: 2.2728\n",
            "\n",
            "Epoch 00021: val_loss improved from 2.28812 to 2.27279, saving model to model.h5\n",
            "Epoch 22/30\n",
            "637/637 [==============================] - 3s 5ms/step - loss: 2.1916 - val_loss: 2.2433\n",
            "\n",
            "Epoch 00022: val_loss improved from 2.27279 to 2.24329, saving model to model.h5\n",
            "Epoch 23/30\n",
            "637/637 [==============================] - 3s 5ms/step - loss: 2.1554 - val_loss: 2.2386\n",
            "\n",
            "Epoch 00023: val_loss improved from 2.24329 to 2.23862, saving model to model.h5\n",
            "Epoch 24/30\n",
            "637/637 [==============================] - 3s 5ms/step - loss: 2.1424 - val_loss: 2.2242\n",
            "\n",
            "Epoch 00024: val_loss improved from 2.23862 to 2.22421, saving model to model.h5\n",
            "Epoch 25/30\n",
            "637/637 [==============================] - 3s 5ms/step - loss: 2.1254 - val_loss: 2.2035\n",
            "\n",
            "Epoch 00025: val_loss improved from 2.22421 to 2.20348, saving model to model.h5\n",
            "Epoch 26/30\n",
            "637/637 [==============================] - 3s 5ms/step - loss: 2.1086 - val_loss: 2.1906\n",
            "\n",
            "Epoch 00026: val_loss improved from 2.20348 to 2.19056, saving model to model.h5\n",
            "Epoch 27/30\n",
            "637/637 [==============================] - 3s 5ms/step - loss: 2.0940 - val_loss: 2.1810\n",
            "\n",
            "Epoch 00027: val_loss improved from 2.19056 to 2.18095, saving model to model.h5\n",
            "Epoch 28/30\n",
            "637/637 [==============================] - 3s 5ms/step - loss: 2.0758 - val_loss: 2.1715\n",
            "\n",
            "Epoch 00028: val_loss improved from 2.18095 to 2.17152, saving model to model.h5\n",
            "Epoch 29/30\n",
            "637/637 [==============================] - 3s 5ms/step - loss: 2.0614 - val_loss: 2.1575\n",
            "\n",
            "Epoch 00029: val_loss improved from 2.17152 to 2.15746, saving model to model.h5\n",
            "Epoch 30/30\n",
            "637/637 [==============================] - 3s 5ms/step - loss: 2.0515 - val_loss: 2.1502\n",
            "\n",
            "Epoch 00030: val_loss improved from 2.15746 to 2.15016, saving model to model.h5\n"
          ],
          "name": "stdout"
        },
        {
          "output_type": "execute_result",
          "data": {
            "text/plain": [
              "<keras.callbacks.callbacks.History at 0x7fabbc490940>"
            ]
          },
          "metadata": {
            "tags": []
          },
          "execution_count": 15
        }
      ]
    },
    {
      "cell_type": "code",
      "metadata": {
        "id": "uA5JpF6mKmsH",
        "colab_type": "code",
        "colab": {}
      },
      "source": [
        ""
      ],
      "execution_count": null,
      "outputs": []
    }
  ]
}