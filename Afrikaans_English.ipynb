{
  "nbformat": 4,
  "nbformat_minor": 0,
  "metadata": {
    "kernelspec": {
      "display_name": "Python 3",
      "language": "python",
      "name": "python3"
    },
    "language_info": {
      "codemirror_mode": {
        "name": "ipython",
        "version": 3
      },
      "file_extension": ".py",
      "mimetype": "text/x-python",
      "name": "python",
      "nbconvert_exporter": "python",
      "pygments_lexer": "ipython3",
      "version": "3.7.3"
    },
    "colab": {
      "name": "Afrikaans - English.ipynb",
      "provenance": [],
      "collapsed_sections": [],
      "include_colab_link": true
    }
  },
  "cells": [
    {
      "cell_type": "markdown",
      "metadata": {
        "id": "view-in-github",
        "colab_type": "text"
      },
      "source": [
        "<a href=\"https://colab.research.google.com/github/makozi/AfrikaansNMT/blob/master/Afrikaans_English.ipynb\" target=\"_parent\"><img src=\"https://colab.research.google.com/assets/colab-badge.svg\" alt=\"Open In Colab\"/></a>"
      ]
    },
    {
      "cell_type": "markdown",
      "metadata": {
        "id": "jK7VZ7BGgHnn",
        "colab_type": "text"
      },
      "source": [
        "# Afrikaans to English Translation\n",
        "\n",
        "\n",
        "### Preparing the  Data\n",
        "\n",
        "Data preparation is divided into two subsections:\n",
        "\n",
        "1. Clean Data\n",
        "2. Split Text\n",
        "\n",
        "\n",
        "\n",
        "#### 1. Cleaning Data"
      ]
    },
    {
      "cell_type": "code",
      "metadata": {
        "id": "VGQxVow7gHn4",
        "colab_type": "code",
        "colab": {}
      },
      "source": [
        "def load_doc(file_name):\n",
        "    # Open the file as read only\n",
        "    file = open(filename, mode='rt', encoding='utf-8')\n",
        "    # read all text\n",
        "    text = file.read()\n",
        "    # close the file\n",
        "    file.close()\n",
        "    return text\n"
      ],
      "execution_count": 104,
      "outputs": []
    },
    {
      "cell_type": "code",
      "metadata": {
        "id": "7aBEal3UgHpl",
        "colab_type": "code",
        "colab": {}
      },
      "source": [
        "# splitting the loaded text by line and then by phrase.\n",
        "def to_pairs(doc):\n",
        "\tlines = doc.strip().split('\\n')\n",
        "\tpairs = [line.split('\\t') for line in  lines]\n",
        "\treturn pairs"
      ],
      "execution_count": 105,
      "outputs": []
    },
    {
      "cell_type": "markdown",
      "metadata": {
        "id": "MrcuLeFIgHqN",
        "colab_type": "text"
      },
      "source": [
        "Performing cleaning to do the following:\n",
        "\n",
        "- Removing all non-printable characters.\n",
        "- Removing all punctuation characters.\n",
        "- Normalizing all Unicode characters to ASCII (e.g. Latin characters).\n",
        "- Normalizing the case to lowercase.\n",
        "- Removing any remaining tokens that are not alphabetic.\n",
        "\n",
        "Performing these operations on each phrase for each pair in the loaded dataset."
      ]
    },
    {
      "cell_type": "code",
      "metadata": {
        "id": "HFOw994ygHqa",
        "colab_type": "code",
        "colab": {}
      },
      "source": [
        "# clean a list of lines\n",
        "def clean_pairs(lines):\n",
        "\tcleaned = list()\n",
        "\t# prepare regex for char filtering\n",
        "\tre_print = re.compile('[^%s]' % re.escape(string.printable))\n",
        "\t# prepare translation table for removing punctuation\n",
        "\ttable = str.maketrans('', '', string.punctuation)\n",
        "\tfor pair in lines:\n",
        "\t\tclean_pair = list()\n",
        "\t\tfor line in pair:\n",
        "\t\t\t# normalize unicode characters\n",
        "\t\t\tline = normalize('NFD', line).encode('ascii', 'ignore')\n",
        "\t\t\tline = line.decode('UTF-8')\n",
        "\t\t\t# tokenize on white space\n",
        "\t\t\tline = line.split()\n",
        "\t\t\t# convert to lowercase\n",
        "\t\t\tline = [word.lower() for word in line]\n",
        "\t\t\t# remove punctuation from each token\n",
        "\t\t\tline = [word.translate(table) for word in line]\n",
        "\t\t\t# remove non-printable chars form each token\n",
        "\t\t\tline = [re_print.sub('', w) for w in line]\n",
        "\t\t\t# remove tokens with numbers in them\n",
        "\t\t\tline = [word for word in line if word.isalpha()]\n",
        "\t\t\t# store as string\n",
        "\t\t\tclean_pair.append(' '.join(line))\n",
        "\t\tcleaned.append(clean_pair)\n",
        "\treturn array(cleaned)"
      ],
      "execution_count": 106,
      "outputs": []
    },
    {
      "cell_type": "code",
      "metadata": {
        "id": "s_3KIzTPgHrS",
        "colab_type": "code",
        "colab": {
          "base_uri": "https://localhost:8080/",
          "height": 1000
        },
        "outputId": "0ed65620-6192-4ea1-a3c8-f49f56bd6e88"
      },
      "source": [
        "import string\n",
        "import re\n",
        "from pickle import dump\n",
        "from unicodedata import normalize\n",
        "from numpy import array\n",
        " \n",
        "# load doc into memory\n",
        "def load_doc(filename):\n",
        "\t# open the file as read only\n",
        "\tfile = open(filename, mode='rt', encoding='utf-8')\n",
        "\t# read all text\n",
        "\ttext = file.read()\n",
        "\t# close the file\n",
        "\tfile.close()\n",
        "\treturn text\n",
        " \n",
        "# split a loaded document into sentences\n",
        "def to_pairs(doc):\n",
        "\tlines = doc.strip().split('\\n')\n",
        "\tpairs = [line.split('\\t') for line in  lines]\n",
        "\treturn pairs\n",
        " \n",
        "# clean a list of lines\n",
        "def clean_pairs(lines):\n",
        "\tcleaned = list()\n",
        "\t# prepare regex for char filtering\n",
        "\tre_print = re.compile('[^%s]' % re.escape(string.printable))\n",
        "\t# prepare translation table for removing punctuation\n",
        "\ttable = str.maketrans('', '', string.punctuation)\n",
        "\tfor pair in lines:\n",
        "\t\tclean_pair = list()\n",
        "\t\tfor line in pair:\n",
        "\t\t\t# normalize unicode characters\n",
        "\t\t\tline = normalize('NFD', line).encode('ascii', 'ignore')\n",
        "\t\t\tline = line.decode('UTF-8')\n",
        "\t\t\t# tokenize on white space\n",
        "\t\t\tline = line.split()\n",
        "\t\t\t# convert to lowercase\n",
        "\t\t\tline = [word.lower() for word in line]\n",
        "\t\t\t# remove punctuation from each token\n",
        "\t\t\tline = [word.translate(table) for word in line]\n",
        "\t\t\t# remove non-printable chars form each token\n",
        "\t\t\tline = [re_print.sub('', w) for w in line]\n",
        "\t\t\t# remove tokens with numbers in them\n",
        "\t\t\tline = [word for word in line if word.isalpha()]\n",
        "\t\t\t# store as string\n",
        "\t\t\tclean_pair.append(' '.join(line))\n",
        "\t\tcleaned.append(clean_pair)\n",
        "\treturn array(cleaned)\n",
        " \n",
        "# save a list of clean sentences to file\n",
        "def save_clean_data(sentences, filename):\n",
        "\tdump(sentences, open(filename, 'wb'))\n",
        "\tprint('Saved: %s' % filename)\n",
        " \n",
        "# load dataset\n",
        "filename = 'afr.txt'\n",
        "doc = load_doc(filename)\n",
        "# split into english-german pairs\n",
        "pairs = to_pairs(doc)\n",
        "# clean sentences\n",
        "clean_pairs = clean_pairs(pairs)\n",
        "# save clean pairs to file\n",
        "save_clean_data(clean_pairs, 'english-afrikaans.pkl')\n",
        "# spot check\n",
        "for i in range(100):\n",
        "\tprint('[%s] => [%s]' % (clean_pairs[i,0], clean_pairs[i,1]))"
      ],
      "execution_count": 107,
      "outputs": [
        {
          "output_type": "stream",
          "text": [
            "Saved: english-afrikaans.pkl\n",
            "[come in] => [gaan binne]\n",
            "[she runs] => [sy hardloop]\n",
            "[you lost] => [jy verloor]\n",
            "[go inside] => [gaan binne]\n",
            "[he is poor] => [hy is arm]\n",
            "[i eat rice] => [ek eet rys]\n",
            "[we all lie] => [ons almal lieg]\n",
            "[im thirsty] => [ek is dors]\n",
            "[thats life] => [dis die lewe]\n",
            "[tom hurt me] => [tom het my beseer]\n",
            "[tom may die] => [tom kan dalk dood gaan]\n",
            "[what a pity] => [hoe jammer]\n",
            "[youve lost] => [jy verloor]\n",
            "[find the cat] => [soek die kat]\n",
            "[i have a car] => [ek het n kar]\n",
            "[please hurry] => [maak asseblief gou]\n",
            "[we all stood] => [ons almal het gestaan]\n",
            "[what a shame] => [hoe jammer]\n",
            "[even tom lied] => [selfs tom het gelieg]\n",
            "[im not blind] => [ek is nie blind nie]\n",
            "[its too ugly] => [dis te lelik]\n",
            "[let tom drive] => [laat tom bestuur]\n",
            "[tom had to go] => [tom moes gaan]\n",
            "[tom wont die] => [tom sal nie dood gaan nie]\n",
            "[was tom there] => [was tom daar]\n",
            "[we need money] => [ons het geld nodig]\n",
            "[you are drunk] => [jy is dronk]\n",
            "[you are drunk] => [julle is dronk]\n",
            "[i hate driving] => [ek haat dit om te bestuur]\n",
            "[i love driving] => [ek is gaande oor bestuur]\n",
            "[im a free man] => [ek is n vry man]\n",
            "[im not a poet] => [ek is nie n digter nie]\n",
            "[its a big job] => [dit is n groot werk]\n",
            "[lets practice] => [laat ons oefen]\n",
            "[my desk is old] => [my lessenaar is oud]\n",
            "[she likes wine] => [sy hou van wyn]\n",
            "[shes not here] => [sy is nie hier nie]\n",
            "[shes pregnant] => [sy is swanger]\n",
            "[that was yours] => [dit was joune]\n",
            "[thats logical] => [dis logies]\n",
            "[those are mine] => [dit behoort aan my]\n",
            "[tom moved away] => [tom het weg getrek]\n",
            "[tom wont help] => [tom sal nie help nie]\n",
            "[tom wont lose] => [tom sal nie verloor nie]\n",
            "[try this sauce] => [probeer hierdie sous]\n",
            "[can you open it] => [kan jy dit oopmaak]\n",
            "[cats catch mice] => [katte vang muise]\n",
            "[congratulations] => [baie geluk]\n",
            "[do you know her] => [ken jy hierdie dame]\n",
            "[how could it be] => [hoe kan dit wees]\n",
            "[i caught a cold] => [ek het verkoue gekry]\n",
            "[i have dry skin] => [ek het n droee vel]\n",
            "[i will join you] => [ek sal saam met jou kom]\n",
            "[look behind you] => [kyk agter jou]\n",
            "[parties are fun] => [partytjies is lekker]\n",
            "[please trust me] => [vetrou my asseblief]\n",
            "[she adores cats] => [sy hou van katte]\n",
            "[tom already ate] => [tom het reeds geeet]\n",
            "[tom got wounded] => [tom het n besering opgedoen]\n",
            "[tom has secrets] => [tom het geheime]\n",
            "[tom kept trying] => [tom het aanhou probeer]\n",
            "[tom looked pale] => [tom het bleek gelyk]\n",
            "[tom made coffee] => [tom het koffie gemaak]\n",
            "[tom never cooks] => [tom kook nooit]\n",
            "[tom ought to go] => [tom sal sekerlik gaan]\n",
            "[tom will say no] => [tom sal nee se]\n",
            "[we dont forget] => [ons vergeet nie]\n",
            "[we want it back] => [ons wil dit terug he]\n",
            "[were all going] => [ons almal gaan]\n",
            "[were relatives] => [ons is familie]\n",
            "[you are naughty] => [jy is stout]\n",
            "[hang on a moment] => [hang aan vir n oomblik]\n",
            "[he hates spiders] => [hy haat spinnekoppe]\n",
            "[hold your horses] => [stadig oor die klippe]\n",
            "[i cant complain] => [ek kan nie kla nie]\n",
            "[i didnt hug tom] => [ek het nie vir tom omhels nie]\n",
            "[i hate the rules] => [ek haat die voorskrifte]\n",
            "[i need your help] => [ek kort jou hulp]\n",
            "[i want tom to go] => [ek wil he tom moet gaan]\n",
            "[i want tom to go] => [ek wil he tom moet verlaat]\n",
            "[i wont be quiet] => [ek sal nie stil wees nie]\n",
            "[i wont kiss tom] => [ek sal nie tom soen nie]\n",
            "[i wont kiss tom] => [ek weier om vir tom te soen]\n",
            "[its a good sign] => [dit is n goeie teken]\n",
            "[may i open a can] => [mag ek n blikkie oopmaak]\n",
            "[music is my life] => [musiek is my lewe]\n",
            "[my french is bad] => [my fraans is sleg]\n",
            "[my wallets gone] => [my beursie het verdwyn]\n",
            "[please go faster] => [gaan asseblief vinniger]\n",
            "[that books mine] => [daardie boek behoort aan my]\n",
            "[that books mine] => [daardie boek is myne]\n",
            "[the bill please] => [die rekening asseblief]\n",
            "[the bus was full] => [die bus was vol]\n",
            "[they all changed] => [hullet almal verander]\n",
            "[this isnt right] => [dit is nie reg nie]\n",
            "[tom didnt leave] => [tom het nie verlaat nie]\n",
            "[tom didnt leave] => [tom het nie gegaan nie]\n",
            "[tom got up early] => [tom het vroeg op gestaan]\n",
            "[tom is trembling] => [tom bewe]\n",
            "[tom is very hurt] => [tom is baie seer]\n"
          ],
          "name": "stdout"
        }
      ]
    },
    {
      "cell_type": "markdown",
      "metadata": {
        "id": "n-3V_fnHgHsa",
        "colab_type": "text"
      },
      "source": [
        "## Splitting Text"
      ]
    },
    {
      "cell_type": "code",
      "metadata": {
        "id": "6DyIAC6ogHsg",
        "colab_type": "code",
        "colab": {
          "base_uri": "https://localhost:8080/",
          "height": 68
        },
        "outputId": "df90334e-696d-436f-9ac6-6e6852612ca9"
      },
      "source": [
        "\n",
        "from pickle import load\n",
        "from pickle import dump\n",
        "from numpy.random import rand\n",
        "from numpy.random import shuffle\n",
        "\n",
        "# load a clean dataset\n",
        "def load_clean_sentences(filename):\n",
        "\treturn load(open(filename, 'rb'))\n",
        "\n",
        "# save a list of clean sentences to file\n",
        "def save_clean_data(sentences, filename):\n",
        "\tdump(sentences, open(filename, 'wb'))\n",
        "\tprint('Saved: %s' % filename)\n",
        "\n",
        "# load dataset\n",
        "raw_dataset = load_clean_sentences('english-afrikaans.pkl')\n",
        "\n",
        "# reduce dataset size\n",
        "n_sentences = 10000\n",
        "dataset = raw_dataset[:n_sentences, :]\n",
        "# random shuffle\n",
        "shuffle(dataset)\n",
        "# split into train/test\n",
        "train, test = dataset[:9000], dataset[9000:]\n",
        "# save\n",
        "save_clean_data(dataset, 'english-afrikaan-both.pkl')\n",
        "save_clean_data(train, 'english-afrikaan-train.pkl')\n",
        "save_clean_data(test, 'english-afrikaan-test.pkl')"
      ],
      "execution_count": 108,
      "outputs": [
        {
          "output_type": "stream",
          "text": [
            "Saved: english-afrikaan-both.pkl\n",
            "Saved: english-afrikaan-train.pkl\n",
            "Saved: english-afrikaan-test.pkl\n"
          ],
          "name": "stdout"
        }
      ]
    },
    {
      "cell_type": "markdown",
      "metadata": {
        "id": "yFFki6R2gHti",
        "colab_type": "text"
      },
      "source": [
        "The new files: \n",
        "\n",
        "`english-afrikaan-both.pkl`: contains all of the train and test examples that we can use to define the parameters of the problem.\n",
        "\n",
        "`english-afrikaan-train.pkl`: contains files for train dataset.\n",
        "\n",
        "`english-afrikaan-test.pkl`: contains files for the train and test dataset.\n",
        "\n",
        "\n",
        "\n",
        "## Training  Neural Translation Model\n",
        "\n"
      ]
    },
    {
      "cell_type": "code",
      "metadata": {
        "id": "0l8rjqLwgHtw",
        "colab_type": "code",
        "colab": {}
      },
      "source": [
        "# load a clean dataset\n",
        "def load_clean_sentences(filename):\n",
        "\treturn load(open(filename, 'rb'))\n",
        "\n",
        "# load datasets\n",
        "dataset = load_clean_sentences('english-afrikaan-both.pkl')\n",
        "train = load_clean_sentences('english-afrikaan-train.pkl')\n",
        "test = load_clean_sentences('english-afrikaan-test.pkl')\n"
      ],
      "execution_count": 109,
      "outputs": []
    },
    {
      "cell_type": "markdown",
      "metadata": {
        "id": "OzNRiqIGgHvD",
        "colab_type": "text"
      },
      "source": [
        "Using the Keras Tokenize class to map words to integers, as needed for modeling. We will use separate tokenizer for the English sequences and the Afrikaans sequences. The function below-named `create_tokenizer()` will train a tokenizer on a list of phrases."
      ]
    },
    {
      "cell_type": "code",
      "metadata": {
        "id": "szMg4KtggHvI",
        "colab_type": "code",
        "colab": {}
      },
      "source": [
        "\n",
        "# fit a tokenizer\n",
        "\n",
        "from keras.preprocessing.text import Tokenizer\n",
        "def create_tokenizer(lines):\n",
        "\ttokenizer = Tokenizer()\n",
        "\ttokenizer.fit_on_texts(lines)\n",
        "\treturn tokenizer\n"
      ],
      "execution_count": 110,
      "outputs": []
    },
    {
      "cell_type": "code",
      "metadata": {
        "id": "OSTvEc5BgHv2",
        "colab_type": "code",
        "colab": {}
      },
      "source": [
        "# finding the length of the longest sequence in a list of phrases.\n",
        "def max_length(lines):\n",
        "\treturn max(len(line.split()) for line in lines)"
      ],
      "execution_count": 111,
      "outputs": []
    },
    {
      "cell_type": "code",
      "metadata": {
        "id": "AfclOYhAgHwX",
        "colab_type": "code",
        "colab": {
          "base_uri": "https://localhost:8080/",
          "height": 85
        },
        "outputId": "42129c79-0069-49c6-8454-b20917a6bef0"
      },
      "source": [
        "\n",
        "# prepare english tokenizer\n",
        "eng_tokenizer = create_tokenizer(dataset[:, 0])\n",
        "eng_vocab_size = len(eng_tokenizer.word_index) + 1\n",
        "eng_length = max_length(dataset[:, 0])\n",
        "print('English Vocabulary Size: %d' % eng_vocab_size)\n",
        "print('English Max Length: %d' % (eng_length))\n",
        "# prepare german tokenizer\n",
        "afr_tokenizer = create_tokenizer(dataset[:, 1])\n",
        "afr_vocab_size = len(afr_tokenizer.word_index) + 1\n",
        "afr_length = max_length(dataset[:, 1])\n",
        "print('Afrikaans Vocabulary Size: %d' % afr_vocab_size)\n",
        "print(' Afrikaans Max Length: %d' % (afr_length))\n"
      ],
      "execution_count": 112,
      "outputs": [
        {
          "output_type": "stream",
          "text": [
            "English Vocabulary Size: 1023\n",
            "English Max Length: 18\n",
            "Afrikaans Vocabulary Size: 999\n",
            " Afrikaans Max Length: 21\n"
          ],
          "name": "stdout"
        }
      ]
    },
    {
      "cell_type": "markdown",
      "metadata": {
        "id": "AYw9XLGyg3yU",
        "colab_type": "text"
      },
      "source": [
        "Each input and output sequence must be encoded to integers and padded to the maximum phrase length. "
      ]
    },
    {
      "cell_type": "code",
      "metadata": {
        "id": "eHUdoPwBgHxL",
        "colab_type": "code",
        "colab": {}
      },
      "source": [
        "from keras.preprocessing.sequence import pad_sequences\n",
        "from keras.utils import to_categorical\n",
        "\n",
        "# encode and pad sequences\n",
        "def encode_sequences(tokenizer, length, lines):\n",
        "\t# integer encode sequences\n",
        "\tX = tokenizer.texts_to_sequences(lines)\n",
        "\t# pad sequences with 0 values\n",
        "\tX = pad_sequences(X, maxlen=length, padding='post')\n",
        "\treturn X"
      ],
      "execution_count": 113,
      "outputs": []
    },
    {
      "cell_type": "code",
      "metadata": {
        "id": "tU9c8qschhEP",
        "colab_type": "code",
        "colab": {}
      },
      "source": [
        "# The output sequence needs to be one-hot encoded  because the model will predict the probability of each word in the vocabulary as output.\n",
        "\n",
        "\n",
        "\n",
        "# one hot encode target sequence\n",
        "def encode_output(sequences, vocab_size):\n",
        "\tylist = list()\n",
        "\tfor sequence in sequences:\n",
        "\t\tencoded = to_categorical(sequence, num_classes=vocab_size)\n",
        "\t\tylist.append(encoded)\n",
        "\ty = array(ylist)\n",
        "\ty = y.reshape(sequences.shape[0], sequences.shape[1], vocab_size)\n",
        "\treturn y"
      ],
      "execution_count": 114,
      "outputs": []
    },
    {
      "cell_type": "markdown",
      "metadata": {
        "id": "yFT5wQMEh_Gi",
        "colab_type": "text"
      },
      "source": [
        "Using the two functions  to prepare both the train and test dataset ready for training the model."
      ]
    },
    {
      "cell_type": "code",
      "metadata": {
        "id": "Rt8zYrDDh4PJ",
        "colab_type": "code",
        "colab": {}
      },
      "source": [
        "\n",
        "# prepare training data\n",
        "trainX = encode_sequences(afr_tokenizer, afr_length, train[:, 1])\n",
        "trainY = encode_sequences(eng_tokenizer, eng_length, train[:, 0])\n",
        "trainY = encode_output(trainY, eng_vocab_size)\n",
        "# prepare validation data\n",
        "testX = encode_sequences(afr_tokenizer, afr_length, test[:, 1])\n",
        "testY = encode_sequences(eng_tokenizer, eng_length, test[:, 0])\n",
        "testY = encode_output(testY, eng_vocab_size)\n"
      ],
      "execution_count": 115,
      "outputs": []
    },
    {
      "cell_type": "code",
      "metadata": {
        "id": "S5iOGbgXiSaZ",
        "colab_type": "code",
        "colab": {
          "base_uri": "https://localhost:8080/",
          "height": 967
        },
        "outputId": "8f8fe2dc-b793-4231-fdf3-477291ee3905"
      },
      "source": [
        "# Using an encoder-decoder LSTM model \n",
        "\n",
        "\n",
        "from keras.models import Sequential\n",
        "from keras.layers import Embedding, LSTM,RepeatVector, Dense\n",
        "from keras.layers.wrappers import TimeDistributed\n",
        "from keras.utils import plot_model\n",
        "\n",
        "# define NMT model\n",
        "def define_model(src_vocab, tar_vocab, src_timesteps, tar_timesteps, n_units):\n",
        "\tmodel = Sequential()\n",
        "\tmodel.add(Embedding(src_vocab, n_units, input_length=src_timesteps, mask_zero=True))\n",
        "\tmodel.add(LSTM(n_units))\n",
        "\tmodel.add(RepeatVector(tar_timesteps))\n",
        "\tmodel.add(LSTM(n_units, return_sequences=True))\n",
        "\tmodel.add(TimeDistributed(Dense(tar_vocab, activation='softmax')))\n",
        "\treturn model\n",
        " \n",
        "# define model\n",
        "model = define_model(afr_vocab_size, eng_vocab_size, afr_length, eng_length, 256)\n",
        "model.compile(optimizer='adam', loss='categorical_crossentropy')\n",
        "# summarize defined model\n",
        "print(model.summary())\n",
        "plot_model(model, to_file='model.png', show_shapes=True)"
      ],
      "execution_count": 116,
      "outputs": [
        {
          "output_type": "stream",
          "text": [
            "Model: \"sequential_5\"\n",
            "_________________________________________________________________\n",
            "Layer (type)                 Output Shape              Param #   \n",
            "=================================================================\n",
            "embedding_5 (Embedding)      (None, 21, 256)           255744    \n",
            "_________________________________________________________________\n",
            "lstm_9 (LSTM)                (None, 256)               525312    \n",
            "_________________________________________________________________\n",
            "repeat_vector_5 (RepeatVecto (None, 18, 256)           0         \n",
            "_________________________________________________________________\n",
            "lstm_10 (LSTM)               (None, 18, 256)           525312    \n",
            "_________________________________________________________________\n",
            "time_distributed_5 (TimeDist (None, 18, 1023)          262911    \n",
            "=================================================================\n",
            "Total params: 1,569,279\n",
            "Trainable params: 1,569,279\n",
            "Non-trainable params: 0\n",
            "_________________________________________________________________\n",
            "None\n"
          ],
          "name": "stdout"
        },
        {
          "output_type": "execute_result",
          "data": {
            "image/png": "[encoded data removed]",
            "text/plain": [
              "<IPython.core.display.Image object>"
            ]
          },
          "metadata": {
            "tags": []
          },
          "execution_count": 116
        }
      ]
    },
    {
      "cell_type": "code",
      "metadata": {
        "id": "nBPbMFrAQaPB",
        "colab_type": "code",
        "colab": {
          "base_uri": "https://localhost:8080/",
          "height": 445
        },
        "outputId": "82b24e9d-a23e-438c-cbfb-026362e53711"
      },
      "source": [
        "# fit model\n",
        "from keras.callbacks import ModelCheckpoint\n",
        "filename = 'model.h5'\n",
        "checkpoint = ModelCheckpoint(filename, monitor='val_loss', verbose=1, save_best_only=True, mode='min')\n",
        "#  model.fit(trainX, trainY, epochs=64, batch_size= 4, validation_data=(testX, testY), callbacks=[checkpoint], verbose=1)\n",
        "\n",
        "model.fit(trainX, trainY, epochs=1, batch_size= 2, validation_data=(testX, testY), callbacks=[checkpoint], verbose=1)"
      ],
      "execution_count": 117,
      "outputs": [
        {
          "output_type": "stream",
          "text": [
            "/usr/local/lib/python3.6/dist-packages/tensorflow/python/framework/indexed_slices.py:434: UserWarning: Converting sparse IndexedSlices to a dense Tensor of unknown shape. This may consume a large amount of memory.\n",
            "  \"Converting sparse IndexedSlices to a dense Tensor of unknown shape. \"\n"
          ],
          "name": "stderr"
        },
        {
          "output_type": "stream",
          "text": [
            "Train on 797 samples, validate on 0 samples\n",
            "Epoch 1/1\n",
            "796/797 [============================>.] - ETA: 0s - loss: 2.3261"
          ],
          "name": "stdout"
        },
        {
          "output_type": "error",
          "ename": "IndexError",
          "evalue": "ignored",
          "traceback": [
            "\u001b[0;31m---------------------------------------------------------------------------\u001b[0m",
            "\u001b[0;31mIndexError\u001b[0m                                Traceback (most recent call last)",
            "\u001b[0;32m<ipython-input-117-915ea458aba3>\u001b[0m in \u001b[0;36m<module>\u001b[0;34m()\u001b[0m\n\u001b[1;32m      5\u001b[0m \u001b[0;31m#  model.fit(trainX, trainY, epochs=64, batch_size= 4, validation_data=(testX, testY), callbacks=[checkpoint], verbose=1)\u001b[0m\u001b[0;34m\u001b[0m\u001b[0;34m\u001b[0m\u001b[0;34m\u001b[0m\u001b[0m\n\u001b[1;32m      6\u001b[0m \u001b[0;34m\u001b[0m\u001b[0m\n\u001b[0;32m----> 7\u001b[0;31m \u001b[0mmodel\u001b[0m\u001b[0;34m.\u001b[0m\u001b[0mfit\u001b[0m\u001b[0;34m(\u001b[0m\u001b[0mtrainX\u001b[0m\u001b[0;34m,\u001b[0m \u001b[0mtrainY\u001b[0m\u001b[0;34m,\u001b[0m \u001b[0mepochs\u001b[0m\u001b[0;34m=\u001b[0m\u001b[0;36m1\u001b[0m\u001b[0;34m,\u001b[0m \u001b[0mbatch_size\u001b[0m\u001b[0;34m=\u001b[0m \u001b[0;36m2\u001b[0m\u001b[0;34m,\u001b[0m \u001b[0mvalidation_data\u001b[0m\u001b[0;34m=\u001b[0m\u001b[0;34m(\u001b[0m\u001b[0mtestX\u001b[0m\u001b[0;34m,\u001b[0m \u001b[0mtestY\u001b[0m\u001b[0;34m)\u001b[0m\u001b[0;34m,\u001b[0m \u001b[0mcallbacks\u001b[0m\u001b[0;34m=\u001b[0m\u001b[0;34m[\u001b[0m\u001b[0mcheckpoint\u001b[0m\u001b[0;34m]\u001b[0m\u001b[0;34m,\u001b[0m \u001b[0mverbose\u001b[0m\u001b[0;34m=\u001b[0m\u001b[0;36m1\u001b[0m\u001b[0;34m)\u001b[0m\u001b[0;34m\u001b[0m\u001b[0;34m\u001b[0m\u001b[0m\n\u001b[0m",
            "\u001b[0;32m/usr/local/lib/python3.6/dist-packages/keras/engine/training.py\u001b[0m in \u001b[0;36mfit\u001b[0;34m(self, x, y, batch_size, epochs, verbose, callbacks, validation_split, validation_data, shuffle, class_weight, sample_weight, initial_epoch, steps_per_epoch, validation_steps, validation_freq, max_queue_size, workers, use_multiprocessing, **kwargs)\u001b[0m\n\u001b[1;32m   1237\u001b[0m                                         \u001b[0msteps_per_epoch\u001b[0m\u001b[0;34m=\u001b[0m\u001b[0msteps_per_epoch\u001b[0m\u001b[0;34m,\u001b[0m\u001b[0;34m\u001b[0m\u001b[0;34m\u001b[0m\u001b[0m\n\u001b[1;32m   1238\u001b[0m                                         \u001b[0mvalidation_steps\u001b[0m\u001b[0;34m=\u001b[0m\u001b[0mvalidation_steps\u001b[0m\u001b[0;34m,\u001b[0m\u001b[0;34m\u001b[0m\u001b[0;34m\u001b[0m\u001b[0m\n\u001b[0;32m-> 1239\u001b[0;31m                                         validation_freq=validation_freq)\n\u001b[0m\u001b[1;32m   1240\u001b[0m \u001b[0;34m\u001b[0m\u001b[0m\n\u001b[1;32m   1241\u001b[0m     def evaluate(self,\n",
            "\u001b[0;32m/usr/local/lib/python3.6/dist-packages/keras/engine/training_arrays.py\u001b[0m in \u001b[0;36mfit_loop\u001b[0;34m(model, fit_function, fit_inputs, out_labels, batch_size, epochs, verbose, callbacks, val_function, val_inputs, shuffle, initial_epoch, steps_per_epoch, validation_steps, validation_freq)\u001b[0m\n\u001b[1;32m    208\u001b[0m                                          \u001b[0mbatch_size\u001b[0m\u001b[0;34m=\u001b[0m\u001b[0mbatch_size\u001b[0m\u001b[0;34m,\u001b[0m\u001b[0;34m\u001b[0m\u001b[0;34m\u001b[0m\u001b[0m\n\u001b[1;32m    209\u001b[0m                                          \u001b[0mcallbacks\u001b[0m\u001b[0;34m=\u001b[0m\u001b[0mcallbacks\u001b[0m\u001b[0;34m,\u001b[0m\u001b[0;34m\u001b[0m\u001b[0;34m\u001b[0m\u001b[0m\n\u001b[0;32m--> 210\u001b[0;31m                                          verbose=0)\n\u001b[0m\u001b[1;32m    211\u001b[0m                     \u001b[0mval_outs\u001b[0m \u001b[0;34m=\u001b[0m \u001b[0mto_list\u001b[0m\u001b[0;34m(\u001b[0m\u001b[0mval_outs\u001b[0m\u001b[0;34m)\u001b[0m\u001b[0;34m\u001b[0m\u001b[0;34m\u001b[0m\u001b[0m\n\u001b[1;32m    212\u001b[0m                     \u001b[0;31m# Same labels assumed.\u001b[0m\u001b[0;34m\u001b[0m\u001b[0;34m\u001b[0m\u001b[0;34m\u001b[0m\u001b[0m\n",
            "\u001b[0;32m/usr/local/lib/python3.6/dist-packages/keras/engine/training_arrays.py\u001b[0m in \u001b[0;36mtest_loop\u001b[0;34m(model, f, ins, batch_size, verbose, steps, callbacks)\u001b[0m\n\u001b[1;32m    467\u001b[0m             \u001b[0;32mif\u001b[0m \u001b[0mverbose\u001b[0m \u001b[0;34m==\u001b[0m \u001b[0;36m1\u001b[0m\u001b[0;34m:\u001b[0m\u001b[0;34m\u001b[0m\u001b[0;34m\u001b[0m\u001b[0m\n\u001b[1;32m    468\u001b[0m                 \u001b[0mprogbar\u001b[0m\u001b[0;34m.\u001b[0m\u001b[0mupdate\u001b[0m\u001b[0;34m(\u001b[0m\u001b[0mbatch_end\u001b[0m\u001b[0;34m)\u001b[0m\u001b[0;34m\u001b[0m\u001b[0;34m\u001b[0m\u001b[0m\n\u001b[0;32m--> 469\u001b[0;31m         \u001b[0mouts\u001b[0m\u001b[0;34m[\u001b[0m\u001b[0;36m0\u001b[0m\u001b[0;34m]\u001b[0m \u001b[0;34m/=\u001b[0m \u001b[0mnum_samples\u001b[0m  \u001b[0;31m# Index 0 == `Loss`\u001b[0m\u001b[0;34m\u001b[0m\u001b[0;34m\u001b[0m\u001b[0m\n\u001b[0m\u001b[1;32m    470\u001b[0m     \u001b[0mcallbacks\u001b[0m\u001b[0;34m.\u001b[0m\u001b[0m_call_end_hook\u001b[0m\u001b[0;34m(\u001b[0m\u001b[0;34m'test'\u001b[0m\u001b[0;34m)\u001b[0m\u001b[0;34m\u001b[0m\u001b[0;34m\u001b[0m\u001b[0m\n\u001b[1;32m    471\u001b[0m     \u001b[0;32mreturn\u001b[0m \u001b[0munpack_singleton\u001b[0m\u001b[0;34m(\u001b[0m\u001b[0mouts\u001b[0m\u001b[0;34m)\u001b[0m\u001b[0;34m\u001b[0m\u001b[0;34m\u001b[0m\u001b[0m\n",
            "\u001b[0;31mIndexError\u001b[0m: list index out of range"
          ]
        }
      ]
    },
    {
      "cell_type": "code",
      "metadata": {
        "id": "nhW1wjlTqKEl",
        "colab_type": "code",
        "colab": {}
      },
      "source": [
        "\n",
        "\n",
        "\n",
        "from pickle import load\n",
        "from numpy import array\n",
        "from numpy import argmax\n",
        "from keras.preprocessing.text import Tokenizer\n",
        "from keras.preprocessing.sequence import pad_sequences\n",
        "from keras.models import load_model\n",
        "from nltk.translate.bleu_score import corpus_bleu\n",
        " \n",
        "# load a clean dataset\n",
        "def load_clean_sentences(filename):\n",
        "\treturn load(open(filename, 'rb'))\n",
        " \n",
        "# fit a tokenizer\n",
        "def create_tokenizer(lines):\n",
        "\ttokenizer = Tokenizer()\n",
        "\ttokenizer.fit_on_texts(lines)\n",
        "\treturn tokenizer\n",
        " \n",
        "# max sentence length\n",
        "def max_length(lines):\n",
        "\treturn max(len(line.split()) for line in lines)\n",
        " \n",
        "# encode and pad sequences\n",
        "def encode_sequences(tokenizer, length, lines):\n",
        "\t# integer encode sequences\n",
        "\tX = tokenizer.texts_to_sequences(lines)\n",
        "\t# pad sequences with 0 values\n",
        "\tX = pad_sequences(X, maxlen=length, padding='post')\n",
        "\treturn X\n",
        " \n",
        "# map an integer to a word\n",
        "def word_for_id(integer, tokenizer):\n",
        "\tfor word, index in tokenizer.word_index.items():\n",
        "\t\tif index == integer:\n",
        "\t\t\treturn word\n",
        "\treturn None\n",
        " \n",
        "# generate target given source sequence\n",
        "def predict_sequence(model, tokenizer, source):\n",
        "\tprediction = model.predict(source, verbose=0)[0]\n",
        "\tintegers = [argmax(vector) for vector in prediction]\n",
        "\ttarget = list()\n",
        "\tfor i in integers:\n",
        "\t\tword = word_for_id(i, tokenizer)\n",
        "\t\tif word is None:\n",
        "\t\t\tbreak\n",
        "\t\ttarget.append(word)\n",
        "\treturn ' '.join(target)\n",
        " \n",
        "# evaluate the skill of the model\n",
        "def evaluate_model(model, tokenizer, sources, raw_dataset):\n",
        "\tactual, predicted = list(), list()\n",
        "\tfor i, source in enumerate(sources):\n",
        "\t\t# translate encoded source text\n",
        "\t\tsource = source.reshape((1, source.shape[0]))\n",
        "\t\ttranslation = predict_sequence(model, eng_tokenizer, source)\n",
        "\t\traw_target, raw_src = raw_dataset[i]\n",
        "\t\tif i < 10:\n",
        "\t\t\tprint('src=[%s], target=[%s], predicted=[%s]' % (raw_src, raw_target, translation))\n",
        "\t\tactual.append([raw_target.split()])\n",
        "\t\tpredicted.append(translation.split())\n",
        "\t# calculate BLEU score\n",
        "\tprint('BLEU-1: %f' % corpus_bleu(actual, predicted, weights=(1.0, 0, 0, 0)))\n",
        "\tprint('BLEU-2: %f' % corpus_bleu(actual, predicted, weights=(0.5, 0.5, 0, 0)))\n",
        "\tprint('BLEU-3: %f' % corpus_bleu(actual, predicted, weights=(0.3, 0.3, 0.3, 0)))\n",
        "\tprint('BLEU-4: %f' % corpus_bleu(actual, predicted, weights=(0.25, 0.25, 0.25, 0.25)))\n",
        " \n",
        "# load datasets\n",
        "dataset = load_clean_sentences('english-afrikaan-both.pkl')\n",
        "train = load_clean_sentences('english-afrikaan-train.pkl')\n",
        "test = load_clean_sentences('english-afrikaan-test.pkl')\n",
        "# prepare english tokenizer\n",
        "eng_tokenizer = create_tokenizer(dataset[:, 0])\n",
        "eng_vocab_size = len(eng_tokenizer.word_index) + 1\n",
        "eng_length = max_length(dataset[:, 0])\n",
        "# prepare afrikaan tokenizer\n",
        "afrikaan_tokenizer = create_tokenizer(dataset[:, 1])\n",
        "afrikaan_vocab_size = len(afrikaan_tokenizer.word_index) + 1\n",
        "afrikaan_length = max_length(dataset[:, 1])\n",
        "# prepare data\n",
        "trainX = encode_sequences(afrikaan_tokenizer, afrikaan_length, train[:, 1])\n",
        "testX = encode_sequences(afrikaan_tokenizer, afrikaan_length, test[:, 1])\n",
        " \n",
        "# load model\n",
        "model = load_model('model.h5')\n",
        "# test on some training sequences\n",
        "print('train')\n",
        "evaluate_model(model, eng_tokenizer, trainX, train)\n",
        "# test on some test sequences\n",
        "print('test')\n",
        "evaluate_model(model, eng_tokenizer, testX, test)"
      ],
      "execution_count": null,
      "outputs": []
    },
    {
      "cell_type": "code",
      "metadata": {
        "id": "yDJtL-9q0Q4N",
        "colab_type": "code",
        "colab": {}
      },
      "source": [
        ""
      ],
      "execution_count": null,
      "outputs": []
    }
  ]
}